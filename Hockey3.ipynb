{
 "cells": [
  {
   "cell_type": "markdown",
   "metadata": {},
   "source": [
    "# NHL Fantasy Pool Scores\n",
    "\n",
    "### Steps\n",
    "<ul>\n",
    "    <li> <b>Set Up:</b> Loads required packages, fantasy team draft and creates necessary empty lists and sets to run script</li>\n",
    "    <li> <b>Step 1:</b> Pulls list of relevant games within requested timeframe</li>\n",
    "    <li> <b>Step 2:</b> Stores a list of NHL Game Nights</li>\n",
    "    <li> <b>Step 3:</b> Stores APIs Game IDS required to pull necessary stats</li>\n",
    "    <li> <b>Step 4:</b> Sausage Factory; Gathers required player statistics to calculate Fantasy Pool standings</li>\n",
    "    <li> <b>Step 5:</b> Output; Generates necessary dataframes and CSV files to produce final standings table</li>\n",
    "</ul>\n",
    "\n",
    "### Future Improvements\n",
    "<ul>\n",
    "    <li> Be able to auto-detect minor spelling diffferences between fantasy draft and API database to make JOINs</li>\n",
    "</ul>"
   ]
  },
  {
   "cell_type": "markdown",
   "metadata": {},
   "source": [
    "## Set Up"
   ]
  },
  {
   "cell_type": "code",
   "execution_count": 1,
   "metadata": {},
   "outputs": [
    {
     "name": "stdout",
     "output_type": "stream",
     "text": [
      "Set Up Completed: Pre-requisites are ready!\n"
     ]
    }
   ],
   "source": [
    "# Installation Guide for Sportsreference Python Package\n",
    "## https://sportsreference.readthedocs.io/en/stable/installation.html\n",
    "\n",
    "# Documentation for Sportsreference Python Package\n",
    "## https://sportsreference.readthedocs.io/en/stable/nhl.html#\n",
    "\n",
    "# Importing packages\n",
    "from datetime import datetime,timedelta,time\n",
    "from sportsreference.nhl.boxscore import Boxscores,Boxscore\n",
    "import pandas as pd\n",
    "\n",
    "# Loading in Fantasy Team Roster\n",
    "fantasy_team = pd.read_csv(\"Fantasy_Round2.csv\", encoding='utf-8')\n",
    "fantasy_team['Player'] = fantasy_team['Player'].str.lower()\n",
    "\n",
    "# Creating empty lists for data to be populated\n",
    "game_days = [] # List of days with NHL games\n",
    "game_ids = [] # List of Game IDs needed to pull game statistics\n",
    "invalid_ids = set() # List of Game IDs that are not valid\n",
    "data = [] # List of collected statistics that will be used to turn into a Dataframe\n",
    "\n",
    "print(\"Set Up Completed: Pre-requisites are ready!\")"
   ]
  },
  {
   "cell_type": "markdown",
   "metadata": {},
   "source": [
    "## Steps 1 - 3"
   ]
  },
  {
   "cell_type": "code",
   "execution_count": 2,
   "metadata": {},
   "outputs": [
    {
     "name": "stdout",
     "output_type": "stream",
     "text": [
      "Step 1 Completed: Pulled in list of relevant games\n",
      "Step 2 Completed: Stored in NHL Game Night dates into 'game_days' list\n",
      "Step 3 Completed: Stored Game IDs into 'game_ids' list\n",
      "Step 4 can be started: Clean up completed\n"
     ]
    }
   ],
   "source": [
    "# Pulling in list of relevant games\n",
    "games_list = Boxscores(datetime(2020, 8, 11),datetime.today())\n",
    "print(\"Step 1 Completed: Pulled in list of relevant games\")\n",
    "\n",
    "# Storing in NHL Game Night dates into 'game_days' list\n",
    "for date in games_list.games:\n",
    "    game_days.append(date)\n",
    "print(\"Step 2 Completed: Stored in NHL Game Night dates into 'game_days' list\")\n",
    "\n",
    "# Storing Game IDs, Home Team Name, Away Team Name and date as a list into 'game_ids' list \n",
    "dupes_check = []\n",
    "for date in game_days:\n",
    "    for gameid in games_list.games[date]:\n",
    "        gm_list = []\n",
    "        if gameid['winning_name'] is None:\n",
    "            invalid_ids.add(gameid['boxscore'])\n",
    "        else:\n",
    "            dupes_check.append(gameid['boxscore'])\n",
    "            if dupes_check.count(gameid['boxscore'])<= 1:\n",
    "                gm_list.append(gameid['boxscore'])\n",
    "                gm_list.append(gameid['home_abbr'])\n",
    "                gm_list.append(gameid['away_abbr'])\n",
    "                gm_list.append(date)\n",
    "                game_ids.append(gm_list)\n",
    "            else:\n",
    "                pass\n",
    "print(\"Step 3 Completed: Stored Game IDs into 'game_ids' list\")\n",
    "\n",
    "# Cleaning up 'game_ids' list to remove duplicates        \n",
    "game_ids = list(set(map(tuple,game_ids )))\n",
    "\n",
    "# Cleaning up 'game_ids' list to remove blank ids\n",
    "for ids in game_ids:\n",
    "    if len(ids[0]) == 0:\n",
    "        game_ids.remove(ids)\n",
    "\n",
    "print(\"Step 4 can be started: Clean up completed\")"
   ]
  },
  {
   "cell_type": "markdown",
   "metadata": {},
   "source": [
    "## Step 4"
   ]
  },
  {
   "cell_type": "code",
   "execution_count": 3,
   "metadata": {},
   "outputs": [
    {
     "name": "stdout",
     "output_type": "stream",
     "text": [
      "Step 4 Completed: Pulled player statistics into 'data' list \n",
      "Step 5 Started: Creating CSV files for Fantasy Pool Standing\n"
     ]
    }
   ],
   "source": [
    "# Sausage Factory\n",
    "\n",
    "## Creating a loop that pulls required player statistics for each game_id\n",
    "for game in game_ids:\n",
    "    # Home Players\n",
    "    ## Storing a list of elements containing name, hometeam, game_id, date, goals, assists, points into 'data' list\n",
    "    try:\n",
    "        home_players = Boxscore(game[0]).home_players\n",
    "    except Exception:\n",
    "        invalid_ids.add(game[0]) #use a set so you don't keep any duplicates.\n",
    "        pass\n",
    "    else:\n",
    "        for hplayer in home_players:\n",
    "            hm_stat = []\n",
    "            hm_stat.append(hplayer.name)\n",
    "            hm_stat.append(game[1]) \n",
    "            hm_stat.append(game[0]) #gameid\n",
    "            hm_stat.append(game[3])\n",
    "            hm_stat.append(hplayer.goals)\n",
    "            hm_stat.append(hplayer.assists)\n",
    "            hm_stat.append(hplayer.points)\n",
    "            data.append(hm_stat)\n",
    "    \n",
    "    # Away Players\n",
    "    ## Storing a list of elements containing name, awayteam, game_id, date, goals, assists, points into 'data' list\n",
    "    try:\n",
    "        away_players = Boxscore(game[0]).away_players\n",
    "    except Exception:\n",
    "        invalid_ids.add(game[0])\n",
    "        pass\n",
    "    else:\n",
    "        for aplayer in away_players:\n",
    "            aw_stat = []\n",
    "            aw_stat.append(aplayer.name)\n",
    "            aw_stat.append(game[2])\n",
    "            aw_stat.append(game[0])\n",
    "            aw_stat.append(game[3])\n",
    "            aw_stat.append(aplayer.goals)\n",
    "            aw_stat.append(aplayer.assists)\n",
    "            aw_stat.append(aplayer.points)\n",
    "            data.append(aw_stat)\n",
    "print(\"Step 4 Completed: Pulled player statistics into 'data' list\")\n"
   ]
  },
  {
   "cell_type": "markdown",
   "metadata": {},
   "source": [
    "## Step 5A"
   ]
  },
  {
   "cell_type": "code",
   "execution_count": 4,
   "metadata": {},
   "outputs": [
    {
     "name": "stdout",
     "output_type": "stream",
     "text": [
      "\n",
      "Detailed NHL player stats have been generated as nhl_player_statistics.csv\n",
      "Cumulative NHL player stats have been generated as CUM_nhl_player_statistics.csv\n",
      "Checking For Missing Players between Roster and Player Statistics...\n",
      "Players missing - Please confirm these are only players who did not play... Validate before proceeding to next step\n",
      "             Player\n",
      "93        toffoli t\n",
      "162       stamkos s\n",
      "163  van riemsdyk j\n"
     ]
    }
   ],
   "source": [
    "# Transforming the 'data' list into a dataframe and saving it as a CSV\n",
    "hockey_stats_ts = pd.DataFrame (data, columns = ['Player','Team','Game_ID','Date','Goals','Assists','Points'])\n",
    "hockey_stats_ts['Date'] = hockey_stats_ts['Date'].apply(pd.to_datetime)\n",
    "\n",
    "### Converting Names to Match Fantasy Draft Picks\n",
    "hockey_stats_ts['Player_Last'] = hockey_stats_ts['Player'].str.split(\" \").str[1]\n",
    "hockey_stats_ts['Player_First'] = hockey_stats_ts['Player'].str[:1]\n",
    "hockey_stats_ts['Player'] = hockey_stats_ts['Player_Last'].str.cat(hockey_stats_ts['Player_First'], sep = \" \").str.lower()\n",
    "\n",
    "hockey_stats_ts.to_csv('nhl_player_statistics.csv')\n",
    "print('\\nDetailed NHL player stats have been generated as nhl_player_statistics.csv')\n",
    "\n",
    "# Grouping up the details stats table above into cumulative player stats and saving it as a CSV\n",
    "hockey_stats_cum = pd.DataFrame(hockey_stats_ts.groupby(['Player','Team']).sum()).reset_index()\n",
    "hockey_stats_cum.to_csv('CUM_nhl_player_statistics.csv')\n",
    "print('Cumulative NHL player stats have been generated as CUM_nhl_player_statistics.csv')\n",
    "\n",
    "# Creating the final dataset that will aggregate points and assign it to the Fantasy Team with ranking\n",
    "\n",
    "## Creating two dataframe slices summing results up until today()-1 and today()-2\n",
    "recent_raw = hockey_stats_ts.loc[hockey_stats_ts['Date'] <= (datetime.today()- timedelta(days=1)).replace(hour = 0, minute = 0, second = 0)]\n",
    "previous_raw = hockey_stats_ts.loc[hockey_stats_ts['Date'] <= (datetime.today()- timedelta(days=2)).replace(hour = 0, minute = 0, second = 0)]\n",
    "\n",
    "\n",
    "## Joining the recent_raw slice to previous_raw slice and renaming columns\n",
    "results = pd.merge(pd.DataFrame(recent_raw.groupby(['Player']).sum()).reset_index(), pd.DataFrame(previous_raw.groupby(['Player']).sum()).reset_index(), how='left',left_on='Player', right_on='Player')\n",
    "results.columns = ['Player','Recent_Goals','Recent_Assists','Recent_Points','Previous_Goals','Previous_Assists','Previous_Points']\n",
    "\n",
    "\n",
    "## Joining the fantasy team roster to results dataframe\n",
    "results_standing = pd.merge(fantasy_team, results, how='left', left_on='Player', right_on='Player')\n",
    "\n",
    "# Looking for player names that are not matched\n",
    "print('Checking For Missing Players between Roster and Player Statistics...')\n",
    "if pd.DataFrame(results_standing['Player'].loc[results_standing['Previous_Points'].isna()]).empty:\n",
    "    print('Players matched...Continue to next step')\n",
    "else:\n",
    "    print('Players missing - Please confirm these are only players who did not play... Validate before proceeding to next step')\n",
    "    print(pd.DataFrame(results_standing['Player'].loc[results_standing['Previous_Points'].isna()]))\n",
    "\n"
   ]
  },
  {
   "cell_type": "markdown",
   "metadata": {},
   "source": [
    "## Step 5B"
   ]
  },
  {
   "cell_type": "code",
   "execution_count": 5,
   "metadata": {},
   "outputs": [
    {
     "name": "stdout",
     "output_type": "stream",
     "text": [
      "\n",
      "Results of your fantasy hockey pool has been generated in fantasy_nhl_pool_standing.csv \n",
      "Step 5 Completed: Updated Hockey Pool Standing.. Process Completed\n"
     ]
    }
   ],
   "source": [
    "## Aggregating measures by Fantasy Team\n",
    "results_cum = pd.DataFrame(results_standing.groupby(['Fantasy']).sum()).reset_index()\n",
    "\n",
    "## Creating columns to calculate Fantasy Team recent rank, previous rank, change in rank, change in points\n",
    "results_cum['Current_Rank'] = results_cum['Recent_Points'].rank(method='max', ascending = False)\n",
    "results_cum['Previous_Rank'] = results_cum['Previous_Points'].rank(method='max', ascending = False)\n",
    "results_cum['Rank_Change'] = results_cum['Current_Rank'] - results_cum['Previous_Rank'] \n",
    "results_cum['Point_Change'] = results_cum['Recent_Points'] - results_cum['Previous_Points']\n",
    "\n",
    "## Creating a truncated dataframe ordered by recent rank\n",
    "standings = results_cum[['Current_Rank','Fantasy','Recent_Points','Rank_Change','Point_Change']].sort_values(by=['Current_Rank'], ascending=True)\n",
    "standings.columns = ['Rank','Fantasy Team','Points','Rank Change','Points Gained']\n",
    "standings.to_csv('Fantasy_Pool_Standing.csv')\n",
    "print('\\nResults of your fantasy hockey pool has been generated in fantasy_nhl_pool_standing.csv \\nStep 5 Completed: Updated Hockey Pool Standing.. Process Completed')"
   ]
  },
  {
   "cell_type": "code",
   "execution_count": null,
   "metadata": {},
   "outputs": [],
   "source": []
  }
 ],
 "metadata": {
  "kernelspec": {
   "display_name": "Python 3",
   "language": "python",
   "name": "python3"
  },
  "language_info": {
   "codemirror_mode": {
    "name": "ipython",
    "version": 3
   },
   "file_extension": ".py",
   "mimetype": "text/x-python",
   "name": "python",
   "nbconvert_exporter": "python",
   "pygments_lexer": "ipython3",
   "version": "3.8.3"
  }
 },
 "nbformat": 4,
 "nbformat_minor": 2
}
